{
 "cells": [
  {
   "cell_type": "code",
   "execution_count": 1,
   "metadata": {},
   "outputs": [],
   "source": [
    "import requests\n",
    "from PIL import Image\n",
    "from io import BytesIO\n",
    "import cv2 as cv\n",
    "import numpy as np\n",
    "import pandas as pd"
   ]
  },
  {
   "cell_type": "code",
   "execution_count": 85,
   "metadata": {},
   "outputs": [],
   "source": [
    "success_file = 'download_records/success'\n",
    "failed_file = 'download_records/failed'\n",
    "\n",
    "if not path.isdir('download_records'):\n",
    "    makedirs('download_records')\n",
    "\n",
    "\n",
    "\n",
    "def download(filename):\n",
    "    img_url = 'https://pic.to8to.com/case/{}'.format(filename)\n",
    "    print('downloading {} ...'.format(img_url))\n",
    "    try:\n",
    "        res = requests.get(img_url)\n",
    "    except:\n",
    "        return None\n",
    "    # img_ndarray = np.asarray(Image.open(BytesIO(res.content)))\n",
    "    return Image.open(BytesIO(res.content))"
   ]
  },
  {
   "cell_type": "code",
   "execution_count": 12,
   "metadata": {},
   "outputs": [],
   "source": [
    "all_csvs = ['data/deploy/split_data/3/' + f for f in listdir('data/deploy/split_data/3')]"
   ]
  },
  {
   "cell_type": "code",
   "execution_count": 23,
   "metadata": {},
   "outputs": [],
   "source": [
    "df = pd.read_csv(all_csvs[0])"
   ]
  },
  {
   "cell_type": "code",
   "execution_count": 27,
   "metadata": {},
   "outputs": [
    {
     "name": "stdout",
     "output_type": "stream",
     "text": [
      "downloading https://pic.to8to.com/case/day_080809/20090218_3ff26d79e7d22a49f76fSeVJN45BU9tE.bmp ...\n",
      "success\n"
     ]
    }
   ],
   "source": [
    "cid, aid, filename = df.loc[0, ['cid', 'aid', 'filename']]\n",
    "line = '{},{},{}'.format(cid, aid, filename)\n",
    "download(filename)\n",
    "if img is not None:\n",
    "    append_line_to_file(success_file, line)\n",
    "    print('success')\n",
    "else:\n",
    "    append_line_to_file(failed_file, line)\n",
    "    print('failed')"
   ]
  },
  {
   "cell_type": "code",
   "execution_count": 29,
   "metadata": {},
   "outputs": [
    {
     "data": {
      "text/plain": [
       "60"
      ]
     },
     "execution_count": 29,
     "metadata": {},
     "output_type": "execute_result"
    }
   ],
   "source": [
    "len(line)"
   ]
  },
  {
   "cell_type": "code",
   "execution_count": 115,
   "metadata": {},
   "outputs": [],
   "source": [
    "import codecs\n",
    "from time import time\n",
    "from os import path, makedirs, listdir, remove\n",
    "import re\n",
    "\n",
    "def append_line_to_file(f_path, line):\n",
    "    f_dir = path.dirname(f_path)\n",
    "    if not path.isdir(f_dir):\n",
    "        makedirs(f_dir)\n",
    "\n",
    "    with open(f_path, 'a+', encoding='utf-8') as f:\n",
    "        f.write('{}\\n'.format(line))\n",
    "        f.close()\n",
    "\n",
    "def extract_cid_aid_filename(f_src, f_tar, f_error):\n",
    "    _re = re.compile(r'.(jpg|jpeg|png)$', flags = re.I)\n",
    "    _is_first_row = True\n",
    "    with codecs.open(f_src, 'r', encoding='utf-8') as f:\n",
    "        try:\n",
    "            for line in f:\n",
    "                if _is_first_row:\n",
    "                    _is_first_row = False\n",
    "                    continue\n",
    "                try:\n",
    "                    row = line.strip().split(',')\n",
    "                    new_line = '{},{},{}'.format(row[1], row[6], row[7]).strip()\n",
    "                    cid = int(row[1])\n",
    "                    aid = int(row[6])\n",
    "                    filename = str(row[7]).strip()\n",
    "                    if filename and _re.search(filename):\n",
    "                        append_line_to_file(f_tar, new_line)\n",
    "                    else:\n",
    "                        append_line_to_file(f_error, new_line)\n",
    "                except IndexError as e:\n",
    "                    append_line_to_file(f_error, line.strip())\n",
    "                except ValueError as e:\n",
    "                    append_line_to_file(f_error, new_line)\n",
    "        except UnicodeEncodeError as e:\n",
    "             print('UnicodeEncodeError: ', line)\n",
    "        f.close()\n",
    "\n",
    "def extract_cid_aid_filename_to_one_csv():\n",
    "    all_csvs = ['data/deploy/split_data/3/' + f for f in listdir('data/deploy/split_data/3')]\n",
    "    start_time = time()\n",
    "    for cf in all_csvs:\n",
    "        start_time_loop = time()\n",
    "        extract_cid_aid_filename(cf, 'data/art/cid_aid_filename_8354754.csv', 'data/art/ignore_images.csv')\n",
    "        print('loop cost time {}s\\n'.format(time() - start_time_loop))\n",
    "    print('------------\\ntotal cost time {}s'.format(time() - start_time))"
   ]
  },
  {
   "cell_type": "code",
   "execution_count": 116,
   "metadata": {},
   "outputs": [
    {
     "name": "stdout",
     "output_type": "stream",
     "text": [
      "loop cost time 72.02960157394409s\n",
      "\n",
      "loop cost time 75.18273043632507s\n",
      "\n",
      "loop cost time 76.2680766582489s\n",
      "\n",
      "loop cost time 77.4567928314209s\n",
      "\n",
      "loop cost time 78.46450066566467s\n",
      "\n",
      "loop cost time 81.56821417808533s\n",
      "\n",
      "loop cost time 75.94637179374695s\n",
      "\n",
      "loop cost time 77.03838682174683s\n",
      "\n",
      "loop cost time 75.46575403213501s\n",
      "\n",
      "loop cost time 77.67914199829102s\n",
      "\n",
      "loop cost time 77.31922674179077s\n",
      "\n",
      "loop cost time 74.53598999977112s\n",
      "\n",
      "loop cost time 72.97675585746765s\n",
      "\n",
      "loop cost time 76.6071527004242s\n",
      "\n",
      "loop cost time 71.7544457912445s\n",
      "\n",
      "loop cost time 77.48160314559937s\n",
      "\n",
      "loop cost time 72.13538336753845s\n",
      "\n",
      "loop cost time 76.91365957260132s\n",
      "\n",
      "loop cost time 77.3942666053772s\n",
      "\n",
      "loop cost time 81.37667202949524s\n",
      "\n",
      "loop cost time 74.51446413993835s\n",
      "\n",
      "loop cost time 76.81905603408813s\n",
      "\n",
      "loop cost time 74.99212431907654s\n",
      "\n",
      "loop cost time 77.58491134643555s\n",
      "\n",
      "loop cost time 95.52867364883423s\n",
      "\n",
      "loop cost time 118.86524891853333s\n",
      "\n",
      "loop cost time 116.4418785572052s\n",
      "\n",
      "loop cost time 88.164710521698s\n",
      "\n",
      "loop cost time 72.99827313423157s\n",
      "\n",
      "loop cost time 88.38011693954468s\n",
      "\n",
      "loop cost time 110.29421377182007s\n",
      "\n",
      "loop cost time 150.02048182487488s\n",
      "\n",
      "loop cost time 142.74480533599854s\n",
      "\n",
      "loop cost time 145.09338903427124s\n",
      "\n",
      "loop cost time 142.1055202484131s\n",
      "\n",
      "loop cost time 143.21859073638916s\n",
      "\n",
      "loop cost time 142.70510125160217s\n",
      "\n",
      "loop cost time 140.938542842865s\n",
      "\n",
      "loop cost time 140.53199172019958s\n",
      "\n",
      "loop cost time 138.74732518196106s\n",
      "\n",
      "loop cost time 134.49583959579468s\n",
      "\n",
      "loop cost time 132.40705132484436s\n",
      "\n",
      "loop cost time 135.1038534641266s\n",
      "\n",
      "loop cost time 130.10330843925476s\n",
      "\n",
      "loop cost time 133.71857357025146s\n",
      "\n",
      "loop cost time 133.1800036430359s\n",
      "\n",
      "loop cost time 133.69554233551025s\n",
      "\n",
      "loop cost time 128.35111689567566s\n",
      "\n",
      "loop cost time 121.9309310913086s\n",
      "\n",
      "loop cost time 83.51730370521545s\n",
      "\n",
      "loop cost time 83.05508685112s\n",
      "\n",
      "loop cost time 84.10499405860901s\n",
      "\n",
      "loop cost time 79.8703682422638s\n",
      "\n",
      "loop cost time 72.6747579574585s\n",
      "\n",
      "loop cost time 73.34434127807617s\n",
      "\n",
      "loop cost time 70.3919677734375s\n",
      "\n",
      "loop cost time 71.6197681427002s\n",
      "\n",
      "loop cost time 70.26461720466614s\n",
      "\n",
      "loop cost time 71.19541239738464s\n",
      "\n",
      "loop cost time 74.45000147819519s\n",
      "\n",
      "loop cost time 73.0000684261322s\n",
      "\n",
      "loop cost time 69.9215943813324s\n",
      "\n",
      "loop cost time 70.14932298660278s\n",
      "\n",
      "loop cost time 71.29448127746582s\n",
      "\n",
      "loop cost time 71.82859563827515s\n",
      "\n",
      "loop cost time 70.4127893447876s\n",
      "\n",
      "loop cost time 71.06876730918884s\n",
      "\n",
      "loop cost time 69.8185966014862s\n",
      "\n",
      "loop cost time 70.94176173210144s\n",
      "\n",
      "loop cost time 70.38118815422058s\n",
      "\n",
      "loop cost time 70.4669542312622s\n",
      "\n",
      "loop cost time 70.82681441307068s\n",
      "\n",
      "loop cost time 70.05216455459595s\n",
      "\n",
      "loop cost time 70.96992182731628s\n",
      "\n",
      "loop cost time 72.12501096725464s\n",
      "\n",
      "loop cost time 72.2320077419281s\n",
      "\n",
      "loop cost time 71.94374537467957s\n",
      "\n",
      "loop cost time 72.87295937538147s\n",
      "\n",
      "loop cost time 71.7318217754364s\n",
      "\n",
      "loop cost time 72.18683624267578s\n",
      "\n",
      "loop cost time 71.78954720497131s\n",
      "\n",
      "loop cost time 73.09532594680786s\n",
      "\n",
      "loop cost time 39.52894353866577s\n",
      "\n",
      "loop cost time 70.13879132270813s\n",
      "\n",
      "------------\n",
      "total cost time 7502.5969581604s\n"
     ]
    }
   ],
   "source": [
    "extract_cid_aid_filename_to_one_csv()"
   ]
  },
  {
   "cell_type": "code",
   "execution_count": 38,
   "metadata": {},
   "outputs": [
    {
     "data": {
      "text/html": [
       "<div>\n",
       "<style scoped>\n",
       "    .dataframe tbody tr th:only-of-type {\n",
       "        vertical-align: middle;\n",
       "    }\n",
       "\n",
       "    .dataframe tbody tr th {\n",
       "        vertical-align: top;\n",
       "    }\n",
       "\n",
       "    .dataframe thead th {\n",
       "        text-align: right;\n",
       "    }\n",
       "</style>\n",
       "<table border=\"1\" class=\"dataframe\">\n",
       "  <thead>\n",
       "    <tr style=\"text-align: right;\">\n",
       "      <th></th>\n",
       "      <th>uid</th>\n",
       "      <th>cid</th>\n",
       "      <th>cname</th>\n",
       "      <th>artnums</th>\n",
       "      <th>direction</th>\n",
       "      <th>puttime</th>\n",
       "      <th>aid</th>\n",
       "      <th>filename</th>\n",
       "    </tr>\n",
       "  </thead>\n",
       "  <tbody>\n",
       "    <tr>\n",
       "      <th>0</th>\n",
       "      <td>4874</td>\n",
       "      <td>1</td>\n",
       "      <td>Ñù°å·¿</td>\n",
       "      <td>8</td>\n",
       "      <td>NaN</td>\n",
       "      <td>1234945899</td>\n",
       "      <td>4</td>\n",
       "      <td>day_080809/20090218_3ff26d79e7d22a49f76fSeVJN4...</td>\n",
       "    </tr>\n",
       "    <tr>\n",
       "      <th>1</th>\n",
       "      <td>4874</td>\n",
       "      <td>1</td>\n",
       "      <td>Ñù°å·¿</td>\n",
       "      <td>8</td>\n",
       "      <td>NaN</td>\n",
       "      <td>1234945899</td>\n",
       "      <td>7</td>\n",
       "      <td>day_080819/20090218_9338ce7e7cfc4c828a66NE4J5C...</td>\n",
       "    </tr>\n",
       "    <tr>\n",
       "      <th>2</th>\n",
       "      <td>4874</td>\n",
       "      <td>1</td>\n",
       "      <td>Ñù°å·¿</td>\n",
       "      <td>8</td>\n",
       "      <td>NaN</td>\n",
       "      <td>1234945899</td>\n",
       "      <td>6</td>\n",
       "      <td>day_080704/20090218_d517e4dada71974412d76zHnG5...</td>\n",
       "    </tr>\n",
       "    <tr>\n",
       "      <th>3</th>\n",
       "      <td>4874</td>\n",
       "      <td>1</td>\n",
       "      <td>Ñù°å·¿</td>\n",
       "      <td>8</td>\n",
       "      <td>NaN</td>\n",
       "      <td>1234945899</td>\n",
       "      <td>2</td>\n",
       "      <td>day_080927/20090218_5b002639766283a47097HKozvN...</td>\n",
       "    </tr>\n",
       "    <tr>\n",
       "      <th>4</th>\n",
       "      <td>4874</td>\n",
       "      <td>1</td>\n",
       "      <td>Ñù°å·¿</td>\n",
       "      <td>8</td>\n",
       "      <td>NaN</td>\n",
       "      <td>1234945899</td>\n",
       "      <td>3</td>\n",
       "      <td>day_081228/20090218_06d8fec08b117b86f3bePyxzls...</td>\n",
       "    </tr>\n",
       "  </tbody>\n",
       "</table>\n",
       "</div>"
      ],
      "text/plain": [
       "    uid  cid   cname artnums direction     puttime aid  \\\n",
       "0  4874    1  Ñù°å·¿       8       NaN  1234945899   4   \n",
       "1  4874    1  Ñù°å·¿       8       NaN  1234945899   7   \n",
       "2  4874    1  Ñù°å·¿       8       NaN  1234945899   6   \n",
       "3  4874    1  Ñù°å·¿       8       NaN  1234945899   2   \n",
       "4  4874    1  Ñù°å·¿       8       NaN  1234945899   3   \n",
       "\n",
       "                                            filename  \n",
       "0  day_080809/20090218_3ff26d79e7d22a49f76fSeVJN4...  \n",
       "1  day_080819/20090218_9338ce7e7cfc4c828a66NE4J5C...  \n",
       "2  day_080704/20090218_d517e4dada71974412d76zHnG5...  \n",
       "3  day_080927/20090218_5b002639766283a47097HKozvN...  \n",
       "4  day_081228/20090218_06d8fec08b117b86f3bePyxzls...  "
      ]
     },
     "execution_count": 38,
     "metadata": {},
     "output_type": "execute_result"
    }
   ],
   "source": [
    "df.head()"
   ]
  },
  {
   "cell_type": "code",
   "execution_count": 56,
   "metadata": {},
   "outputs": [
    {
     "data": {
      "text/plain": [
       "'/data/kdd/cache/images'"
      ]
     },
     "execution_count": 56,
     "metadata": {},
     "output_type": "execute_result"
    }
   ],
   "source": [
    "path.dirname('/data/kdd/cache/images/1.jpg')"
   ]
  },
  {
   "cell_type": "code",
   "execution_count": 68,
   "metadata": {},
   "outputs": [
    {
     "data": {
      "text/plain": [
       "True"
      ]
     },
     "execution_count": 68,
     "metadata": {},
     "output_type": "execute_result"
    }
   ],
   "source": [
    "not None"
   ]
  },
  {
   "cell_type": "code",
   "execution_count": 76,
   "metadata": {},
   "outputs": [],
   "source": [
    "_re = re.compile(r'.(jpg|jpeg|png)$', flags = re.I)"
   ]
  },
  {
   "cell_type": "code",
   "execution_count": 81,
   "metadata": {},
   "outputs": [
    {
     "data": {
      "text/plain": [
       "False"
      ]
     },
     "execution_count": 81,
     "metadata": {},
     "output_type": "execute_result"
    }
   ],
   "source": [
    "not _re.search('asdfasdf.PNG')"
   ]
  },
  {
   "cell_type": "code",
   "execution_count": 98,
   "metadata": {},
   "outputs": [
    {
     "name": "stdout",
     "output_type": "stream",
     "text": [
      "vali\n"
     ]
    }
   ],
   "source": [
    "filename = 'day_080924/20090218_1a95d204bcc280753f51JgBKYZkaKCeq.jpg\\n'\n",
    "if not(filename and _re.search(filename)):\n",
    "    print('invalid')\n",
    "else:\n",
    "    print('vali')"
   ]
  },
  {
   "cell_type": "code",
   "execution_count": 103,
   "metadata": {},
   "outputs": [
    {
     "data": {
      "text/plain": [
       "['day_080924/20090218_1a95d204bcc280753f51JgBKYZkaKCeq.jpg']"
      ]
     },
     "execution_count": 103,
     "metadata": {},
     "output_type": "execute_result"
    }
   ],
   "source": [
    "'day_080924/20090218_1a95d204bcc280753f51JgBKYZkaKCeq.jpg\\n '.strip().split(',')"
   ]
  },
  {
   "cell_type": "code",
   "execution_count": 117,
   "metadata": {},
   "outputs": [
    {
     "data": {
      "text/plain": [
       "[1]"
      ]
     },
     "execution_count": 117,
     "metadata": {},
     "output_type": "execute_result"
    }
   ],
   "source": []
  },
  {
   "cell_type": "code",
   "execution_count": null,
   "metadata": {},
   "outputs": [],
   "source": [
    "thread-5 loop cost time 245.54985165596008s\n",
    "\n",
    "thread-3 loop cost time 245.88586258888245s\n",
    "\n",
    "thread-4 loop cost time 246.1198854446411s\n",
    "\n",
    "thread-1 loop cost time 250.78582501411438s\n",
    "\n",
    "thread-2 loop cost time 250.81182408332825s\n",
    "\n",
    "thread-8 loop cost time 250.83284997940063s\n",
    "\n",
    "thread-7 loop cost time 251.06184768676758s\n",
    "\n",
    "thread-6 loop cost time 251.1018464565277s\n",
    "\n",
    "thread-3 loop cost time 244.9503779411316s\n",
    "\n",
    "thread-5 loop cost time 245.48641562461853s\n",
    "\n",
    "thread-4 loop cost time 245.13848161697388s\n",
    "\n",
    "thread-2 loop cost time 247.58389925956726s\n",
    "\n",
    "thread-1 loop cost time 247.88489747047424s\n",
    "\n",
    "thread-8 loop cost time 247.909898519516s\n",
    "\n",
    "thread-7 loop cost time 247.95889616012573s\n",
    "\n",
    "thread-6 loop cost time 248.03689575195312s\n",
    "\n",
    "thread-3 loop cost time 240.78286147117615s\n",
    "\n",
    "thread-4 loop cost time 240.86575937271118s\n",
    "\n",
    "thread-5 loop cost time 241.24085807800293s\n",
    "\n",
    "thread-2 loop cost time 245.7959930896759s\n",
    "\n",
    "thread-8 loop cost time 245.6989941596985s\n",
    "\n",
    "thread-7 loop cost time 245.84219241142273s\n",
    "\n",
    "thread-1 loop cost time 246.27018690109253s\n",
    "\n",
    "thread-6 loop cost time 245.97418761253357s"
   ]
  }
 ],
 "metadata": {
  "kernelspec": {
   "display_name": "Python 3",
   "language": "python",
   "name": "python3"
  },
  "language_info": {
   "codemirror_mode": {
    "name": "ipython",
    "version": 3
   },
   "file_extension": ".py",
   "mimetype": "text/x-python",
   "name": "python",
   "nbconvert_exporter": "python",
   "pygments_lexer": "ipython3",
   "version": "3.6.8"
  }
 },
 "nbformat": 4,
 "nbformat_minor": 2
}
