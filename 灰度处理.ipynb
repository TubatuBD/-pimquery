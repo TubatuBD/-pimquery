{
 "cells": [
  {
   "cell_type": "code",
   "execution_count": 17,
   "metadata": {},
   "outputs": [],
   "source": [
    "import requests\n",
    "from PIL import Image\n",
    "from io import BytesIO\n",
    "from os import path, makedirs\n",
    "import codecs"
   ]
  },
  {
   "cell_type": "code",
   "execution_count": 30,
   "metadata": {},
   "outputs": [
    {
     "name": "stdout",
     "output_type": "stream",
     "text": [
      "downloading images listed in input file in/thread-1-cid_aid_filename.csv ...\n",
      "in/thread-1-cid_aid_filename.csv download completed.\n"
     ]
    }
   ],
   "source": [
    "down_rootdir = '/data/kdd/cache/art_gray_256'\n",
    "failed_file = '{}/failed'.format(down_rootdir)\n",
    "\n",
    "def append_line_to_file(f_path, line):\n",
    "    try:\n",
    "        f_dir = path.dirname(f_path)\n",
    "        if not path.isdir(f_dir):\n",
    "            makedirs(f_dir)\n",
    "\n",
    "        with open(f_path, 'a+', encoding='utf-8') as f:\n",
    "            f.write('{}\\n'.format(line))\n",
    "            f.close()\n",
    "    except:\n",
    "        pass\n",
    "\n",
    "def down_gray_thumbnail(filename, save_path, size=(256, 256)):\n",
    "    img_url = 'http://pic.to8to.com/case/{}'.format(filename)\n",
    "    try:\n",
    "        res = requests.get(img_url)\n",
    "    except:\n",
    "        append_line_to_file(failed_file, path.basename(save_path) + ',' + filename)\n",
    "        return None\n",
    "    \n",
    "    if res.status_code != 200:\n",
    "        print('{} download failed, with status code {}\\n'.format(img_url, res.status_code))\n",
    "        append_line_to_file(failed_file, path.basename(save_path) + ',' + filename)\n",
    "        return\n",
    "\n",
    "    im = Image.open(BytesIO(res.content))\n",
    "    im.thumbnail(size, Image.ANTIALIAS)\n",
    "\n",
    "    return im.convert('L' ).save(save_path)\n",
    "\n",
    "def thread_download(thread_id):\n",
    "    in_file = 'in/thread-{}-cid_aid_filename.csv'.format(thread_id)\n",
    "    print('downloading images listed in input file {} ...'.format(in_file))\n",
    "    with codecs.open(in_file, 'r', encoding='utf-8') as f:\n",
    "        for line in f:\n",
    "            cid, aid, filename = line.strip().split(',')\n",
    "            ext = path.splitext(filename)[1]\n",
    "            save_path = '{}/{}/{}_{}{}'.format(down_rootdir, cid, cid, aid, ext)\n",
    "            save_dir = path.dirname(save_path)\n",
    "\n",
    "            try:\n",
    "                if not path.isdir(save_dir):\n",
    "                    makedirs(save_dir)\n",
    "            except FileExistsError:\n",
    "                pass\n",
    "\n",
    "            down_gray_thumbnail(filename, save_path)\n",
    "            break\n",
    "        f.close()\n",
    "    print('{} download completed.'.format(in_file))\n",
    "\n",
    "thread_download(1)"
   ]
  },
  {
   "cell_type": "code",
   "execution_count": 7,
   "metadata": {},
   "outputs": [
    {
     "name": "stdout",
     "output_type": "stream",
     "text": [
      "downloading https://pic.to8to.com/case/day_081212/20090218_fa4d6149338441e6efdeSMhd0uZXWzbs.jpg ...\n"
     ]
    },
    {
     "data": {
      "image/png": "[encoded data removed]",
      "text/plain": [
       "<PIL.Image.Image image mode=L size=128x96 at 0x229B7580DD8>"
      ]
     },
     "execution_count": 7,
     "metadata": {},
     "output_type": "execute_result"
    }
   ],
   "source": [
    "down_gray_thumbnail('day_081212/20090218_fa4d6149338441e6efdeSMhd0uZXWzbs.jpg')"
   ]
  },
  {
   "cell_type": "code",
   "execution_count": 25,
   "metadata": {},
   "outputs": [
    {
     "name": "stdout",
     "output_type": "stream",
     "text": [
      "downloading https://pic.to8to.com/case/day_081212/20090218_fa4d6149338441e6efdeSMhd0uZXWzbs.jpg ...\n",
      "saved to download/thumb/gray_256/3/3_15.jpg\n",
      "downloading https://pic.to8to.com/case/day_081013/20090218_74467e35e9801d4c96deGBzICPWYrvrX.jpg ...\n",
      "saved to download/thumb/gray_256/3/3_22.jpg\n",
      "downloading https://pic.to8to.com/case/day_080712/20090218_b1dace65cdfc4b55a95feSqrItvITQuE.jpg ...\n",
      "saved to download/thumb/gray_256/3/3_17.jpg\n",
      "downloading https://pic.to8to.com/case/day_080808/20090218_cf8eb1f8bf5ee205e158QtBjP2drpN8H.jpg ...\n",
      "saved to download/thumb/gray_256/3/3_19.jpg\n",
      "downloading https://pic.to8to.com/case/day_081230/20090218_6db043a5c24d0fdbedefSvFFIcv5jlaq.jpg ...\n",
      "saved to download/thumb/gray_256/3/3_18.jpg\n",
      "downloading https://pic.to8to.com/case/day_080802/20090218_a47c03de4520d1ababd3sSnpidMxkUqy.jpg ...\n",
      "saved to download/thumb/gray_256/3/3_20.jpg\n",
      "downloading https://pic.to8to.com/case/day_081115/20090218_b011c8be99044520772cDvDNrxJDhwJi.jpg ...\n",
      "saved to download/thumb/gray_256/3/3_21.jpg\n",
      "downloading https://pic.to8to.com/case/day_081226/20090218_b2dee69f3ef2b5f717d0x3bnnVApLF6G.jpg ...\n",
      "saved to download/thumb/gray_256/3/3_16.jpg\n",
      "downloading https://pic.to8to.com/case/day_081124/20090218_3cef7d0c9b63abd796c6RV9DKW9yOo8h.jpg ...\n",
      "saved to download/thumb/gray_256/3/3_14.jpg\n",
      "downloading https://pic.to8to.com/case/day_081127/20090218_49d21520c8f4ac8782e5WE2KHIlYN3fm.jpg ...\n",
      "saved to download/thumb/gray_256/4/4_25.jpg\n"
     ]
    }
   ],
   "source": [
    "import codecs"
   ]
  },
  {
   "cell_type": "code",
   "execution_count": 14,
   "metadata": {},
   "outputs": [
    {
     "name": "stdout",
     "output_type": "stream",
     "text": [
      "infile data/art/mul_thread/thread-1-cid_aid_filename_8354754.csv\n",
      "965703\n",
      "infile data/art/mul_thread/thread-2-cid_aid_filename_8354754.csv\n",
      "988919\n",
      "infile data/art/mul_thread/thread-3-cid_aid_filename_8354754.csv\n",
      "989577\n",
      "infile data/art/mul_thread/thread-4-cid_aid_filename_8354754.csv\n",
      "989482\n",
      "infile data/art/mul_thread/thread-5-cid_aid_filename_8354754.csv\n",
      "991390\n",
      "infile data/art/mul_thread/thread-6-cid_aid_filename_8354754.csv\n",
      "993944\n",
      "infile data/art/mul_thread/thread-7-cid_aid_filename_8354754.csv\n",
      "993330\n",
      "infile data/art/mul_thread/thread-8-cid_aid_filename_8354754.csv\n",
      "1312516\n",
      "----\n",
      "8224861\n"
     ]
    }
   ],
   "source": [
    "total = 0\n",
    "\n",
    "for i in range(1, 9):\n",
    "    in_file = 'data/art/mul_thread/thread-{}-cid_aid_filename_8354754.csv'.format(i)\n",
    "    print('infile {}'.format(in_file))\n",
    "    with codecs.open(in_file, 'r', encoding='utf-8') as f:\n",
    "        num = len(f.readlines())\n",
    "        total += num\n",
    "        print(num)\n",
    "        f.close()\n",
    "print('----\\n{}'.format(total))"
   ]
  },
  {
   "cell_type": "code",
   "execution_count": 21,
   "metadata": {},
   "outputs": [
    {
     "data": {
      "text/plain": [
       "'.jpg'"
      ]
     },
     "execution_count": 21,
     "metadata": {},
     "output_type": "execute_result"
    }
   ],
   "source": [
    "path.splitext('day_080808/20090218_cf8eb1f8bf5ee205e158QtBjP2drpN8H.jpg')[1]"
   ]
  },
  {
   "cell_type": "code",
   "execution_count": 24,
   "metadata": {},
   "outputs": [
    {
     "name": "stdout",
     "output_type": "stream",
     "text": [
      "infile data/art/mul_thread/thread-1-ignore_images.csv\n",
      "34362\n",
      "infile data/art/mul_thread/thread-2-ignore_images.csv\n",
      "11085\n",
      "infile data/art/mul_thread/thread-3-ignore_images.csv\n",
      "10494\n",
      "infile data/art/mul_thread/thread-4-ignore_images.csv\n",
      "10581\n",
      "infile data/art/mul_thread/thread-5-ignore_images.csv\n",
      "8622\n",
      "infile data/art/mul_thread/thread-6-ignore_images.csv\n",
      "6087\n",
      "infile data/art/mul_thread/thread-7-ignore_images.csv\n",
      "6740\n",
      "infile data/art/mul_thread/thread-8-ignore_images.csv\n",
      "42244\n",
      "----\n",
      "130215\n"
     ]
    }
   ],
   "source": [
    "total = 0\n",
    "\n",
    "for i in range(1, 9):\n",
    "    in_file = 'data/art/mul_thread/thread-{}-ignore_images.csv'.format(i)\n",
    "    print('infile {}'.format(in_file))\n",
    "    with codecs.open(in_file, 'r', encoding='utf-8') as f:\n",
    "        num = len(f.readlines())\n",
    "        total += num\n",
    "        print(num)\n",
    "        f.close()\n",
    "print('----\\n{}'.format(total))"
   ]
  },
  {
   "cell_type": "code",
   "execution_count": 26,
   "metadata": {},
   "outputs": [
    {
     "data": {
      "text/plain": [
       "8355076"
      ]
     },
     "execution_count": 26,
     "metadata": {},
     "output_type": "execute_result"
    }
   ],
   "source": [
    "8224861 + 130215"
   ]
  },
  {
   "cell_type": "code",
   "execution_count": 27,
   "metadata": {},
   "outputs": [
    {
     "data": {
      "text/plain": [
       "127.48834228515625"
      ]
     },
     "execution_count": 27,
     "metadata": {},
     "output_type": "execute_result"
    }
   ],
   "source": [
    "8355076 * 16 / 1024 / 1024"
   ]
  },
  {
   "cell_type": "code",
   "execution_count": 28,
   "metadata": {},
   "outputs": [
    {
     "data": {
      "text/plain": [
       "range(1, 2)"
      ]
     },
     "execution_count": 28,
     "metadata": {},
     "output_type": "execute_result"
    }
   ],
   "source": [
    "range(1, 9)[:1]"
   ]
  },
  {
   "cell_type": "code",
   "execution_count": 31,
   "metadata": {},
   "outputs": [
    {
     "name": "stdout",
     "output_type": "stream",
     "text": [
      "1\n",
      "2\n",
      "3\n",
      "4\n",
      "5\n",
      "6\n",
      "7\n",
      "8\n"
     ]
    }
   ],
   "source": [
    "for i in range(1, 9):\n",
    "    print(i)"
   ]
  },
  {
   "cell_type": "code",
   "execution_count": null,
   "metadata": {},
   "outputs": [],
   "source": []
  }
 ],
 "metadata": {
  "kernelspec": {
   "display_name": "Python 3",
   "language": "python",
   "name": "python3"
  },
  "language_info": {
   "codemirror_mode": {
    "name": "ipython",
    "version": 3
   },
   "file_extension": ".py",
   "mimetype": "text/x-python",
   "name": "python",
   "nbconvert_exporter": "python",
   "pygments_lexer": "ipython3",
   "version": "3.6.8"
  }
 },
 "nbformat": 4,
 "nbformat_minor": 2
}
