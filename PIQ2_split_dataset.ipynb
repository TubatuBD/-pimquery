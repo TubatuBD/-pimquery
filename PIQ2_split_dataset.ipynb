{
 "cells": [
  {
   "cell_type": "markdown",
   "metadata": {},
   "source": [
    "# PIQ2: 分割数据集\n",
    "\n",
    "使用sklearn的[ShuffleSplit](https://scikit-learn.org/stable/modules/generated/sklearn.model_selection.ShuffleSplit.html#sklearn.model_selection.ShuffleSplit):\n",
    "\n",
    "- `n_splits` : 分割份数\n",
    "- `test_size`: 测试级数量，取0~1.0之间的小数，代表测试数据集占整个数据集的比例；如取整数，代表测试数据集数量绝对值"
   ]
  },
  {
   "cell_type": "code",
   "execution_count": 1,
   "metadata": {},
   "outputs": [],
   "source": [
    "from sklearn.model_selection import ShuffleSplit, train_test_split\n",
    "import pandas as pd\n",
    "import numpy as np"
   ]
  },
  {
   "cell_type": "code",
   "execution_count": 2,
   "metadata": {},
   "outputs": [],
   "source": [
    "def dataset_split(ds, n=1, test_size=0.1):\n",
    "    rs = ShuffleSplit(n_splits=n, test_size=test_size, random_state=1)\n",
    "    splits = rs.split(ds)\n",
    "    train_test = list()\n",
    "    for train_index, test_index in splits:\n",
    "        train_test.append([list(train_index), list(test_index)])\n",
    "    if len(train_test) == 1:\n",
    "        return train_test[0]\n",
    "    return train_test"
   ]
  },
  {
   "cell_type": "code",
   "execution_count": 3,
   "metadata": {},
   "outputs": [],
   "source": [
    "dataset = pd.read_csv(\"data/piq_imfp.csv\")"
   ]
  },
  {
   "cell_type": "code",
   "execution_count": 4,
   "metadata": {},
   "outputs": [
    {
     "name": "stdout",
     "output_type": "stream",
     "text": [
      "112891 1000\n"
     ]
    }
   ],
   "source": [
    "train_index, test_index = dataset_split(dataset, test_size=1000)\n",
    "print(len(train_index), len(test_index))\n",
    "\n",
    "train_dataset = dataset.loc[train_index]\n",
    "test_dataset = dataset.loc[test_index]\n",
    "\n",
    "train_dataset['index'] = train_dataset.index\n",
    "test_dataset['index'] = test_dataset.index\n",
    "\n",
    "train_dataset.set_index('index').to_csv('data/train_dataset.csv')\n",
    "test_dataset.set_index('index').to_csv('data/test_dataset.csv')"
   ]
  },
  {
   "cell_type": "code",
   "execution_count": 5,
   "metadata": {},
   "outputs": [
    {
     "data": {
      "text/html": [
       "<div>\n",
       "<style scoped>\n",
       "    .dataframe tbody tr th:only-of-type {\n",
       "        vertical-align: middle;\n",
       "    }\n",
       "\n",
       "    .dataframe tbody tr th {\n",
       "        vertical-align: top;\n",
       "    }\n",
       "\n",
       "    .dataframe thead th {\n",
       "        text-align: right;\n",
       "    }\n",
       "</style>\n",
       "<table border=\"1\" class=\"dataframe\">\n",
       "  <thead>\n",
       "    <tr style=\"text-align: right;\">\n",
       "      <th></th>\n",
       "      <th>index</th>\n",
       "      <th>path</th>\n",
       "      <th>fp_long</th>\n",
       "    </tr>\n",
       "  </thead>\n",
       "  <tbody>\n",
       "    <tr>\n",
       "      <th>0</th>\n",
       "      <td>14093</td>\n",
       "      <td>images/train/卧室_北欧极简/505286_2047519.jpg</td>\n",
       "      <td>326ca4f60d66da4a9bb79903e8fc750ec9ffb1812c65da...</td>\n",
       "    </tr>\n",
       "    <tr>\n",
       "      <th>1</th>\n",
       "      <td>57873</td>\n",
       "      <td>images/train/客厅_北欧极简/1091110_5688185.jpg</td>\n",
       "      <td>2e44e8cf5576fec855a67502497dbf28d8d497fbacb27d...</td>\n",
       "    </tr>\n",
       "    <tr>\n",
       "      <th>2</th>\n",
       "      <td>59511</td>\n",
       "      <td>images/train/客厅_北欧极简/1767017_9640918.jpg</td>\n",
       "      <td>e9b0bff86ced6957eb59745cbf9fd03b8da37e1c937ef2...</td>\n",
       "    </tr>\n",
       "    <tr>\n",
       "      <th>3</th>\n",
       "      <td>97351</td>\n",
       "      <td>images/train/餐厅_中式现代/631144_2825936.jpg</td>\n",
       "      <td>7d7af8e3e71df1d06bfdb44f9e19dfbeaec05f5dd77be0...</td>\n",
       "    </tr>\n",
       "    <tr>\n",
       "      <th>4</th>\n",
       "      <td>68230</td>\n",
       "      <td>images/train/客厅_欧式豪华/516645_2118719.jpg</td>\n",
       "      <td>69743d7d703e7d37794eee08ff3701b995255d2ca5e0f1...</td>\n",
       "    </tr>\n",
       "  </tbody>\n",
       "</table>\n",
       "</div>"
      ],
      "text/plain": [
       "   index                                      path  \\\n",
       "0  14093   images/train/卧室_北欧极简/505286_2047519.jpg   \n",
       "1  57873  images/train/客厅_北欧极简/1091110_5688185.jpg   \n",
       "2  59511  images/train/客厅_北欧极简/1767017_9640918.jpg   \n",
       "3  97351   images/train/餐厅_中式现代/631144_2825936.jpg   \n",
       "4  68230   images/train/客厅_欧式豪华/516645_2118719.jpg   \n",
       "\n",
       "                                             fp_long  \n",
       "0  326ca4f60d66da4a9bb79903e8fc750ec9ffb1812c65da...  \n",
       "1  2e44e8cf5576fec855a67502497dbf28d8d497fbacb27d...  \n",
       "2  e9b0bff86ced6957eb59745cbf9fd03b8da37e1c937ef2...  \n",
       "3  7d7af8e3e71df1d06bfdb44f9e19dfbeaec05f5dd77be0...  \n",
       "4  69743d7d703e7d37794eee08ff3701b995255d2ca5e0f1...  "
      ]
     },
     "execution_count": 5,
     "metadata": {},
     "output_type": "execute_result"
    }
   ],
   "source": [
    "test_data = pd.read_csv('data/test_dataset.csv')\n",
    "\n",
    "test_data.head()"
   ]
  },
  {
   "cell_type": "code",
   "execution_count": 6,
   "metadata": {},
   "outputs": [
    {
     "data": {
      "text/html": [
       "<div>\n",
       "<style scoped>\n",
       "    .dataframe tbody tr th:only-of-type {\n",
       "        vertical-align: middle;\n",
       "    }\n",
       "\n",
       "    .dataframe tbody tr th {\n",
       "        vertical-align: top;\n",
       "    }\n",
       "\n",
       "    .dataframe thead th {\n",
       "        text-align: right;\n",
       "    }\n",
       "</style>\n",
       "<table border=\"1\" class=\"dataframe\">\n",
       "  <thead>\n",
       "    <tr style=\"text-align: right;\">\n",
       "      <th></th>\n",
       "      <th>index</th>\n",
       "      <th>path</th>\n",
       "      <th>fp_long</th>\n",
       "    </tr>\n",
       "  </thead>\n",
       "  <tbody>\n",
       "    <tr>\n",
       "      <th>0</th>\n",
       "      <td>47103</td>\n",
       "      <td>images/train/厨房_北欧极简/936548_4716642.jpg</td>\n",
       "      <td>1b02eff1269ee910ed4957d69d89b268622d3f1d81bc25...</td>\n",
       "    </tr>\n",
       "    <tr>\n",
       "      <th>1</th>\n",
       "      <td>54278</td>\n",
       "      <td>images/train/客厅_中式传统/610905_2702270.jpg</td>\n",
       "      <td>70dd7b44924a5527708cae283337047122b44da0680ba1...</td>\n",
       "    </tr>\n",
       "    <tr>\n",
       "      <th>2</th>\n",
       "      <td>32653</td>\n",
       "      <td>images/train/卧室_美式田园/814946_3957933.jpg</td>\n",
       "      <td>b7cf879d9437cef857ead2466160bde559cc3eefedf75f...</td>\n",
       "    </tr>\n",
       "    <tr>\n",
       "      <th>3</th>\n",
       "      <td>71726</td>\n",
       "      <td>images/train/客厅_现代简约/1330683_7057273.jpg</td>\n",
       "      <td>89707757669f70346de8766cbe1084b5a6344628a1bc30...</td>\n",
       "    </tr>\n",
       "    <tr>\n",
       "      <th>4</th>\n",
       "      <td>10786</td>\n",
       "      <td>images/train/卧室_中式现代/1127432_5908911.jpg</td>\n",
       "      <td>39df63dc1e9147ffc54cdce633acb0e46eba9649cb2b26...</td>\n",
       "    </tr>\n",
       "  </tbody>\n",
       "</table>\n",
       "</div>"
      ],
      "text/plain": [
       "   index                                      path  \\\n",
       "0  47103   images/train/厨房_北欧极简/936548_4716642.jpg   \n",
       "1  54278   images/train/客厅_中式传统/610905_2702270.jpg   \n",
       "2  32653   images/train/卧室_美式田园/814946_3957933.jpg   \n",
       "3  71726  images/train/客厅_现代简约/1330683_7057273.jpg   \n",
       "4  10786  images/train/卧室_中式现代/1127432_5908911.jpg   \n",
       "\n",
       "                                             fp_long  \n",
       "0  1b02eff1269ee910ed4957d69d89b268622d3f1d81bc25...  \n",
       "1  70dd7b44924a5527708cae283337047122b44da0680ba1...  \n",
       "2  b7cf879d9437cef857ead2466160bde559cc3eefedf75f...  \n",
       "3  89707757669f70346de8766cbe1084b5a6344628a1bc30...  \n",
       "4  39df63dc1e9147ffc54cdce633acb0e46eba9649cb2b26...  "
      ]
     },
     "execution_count": 6,
     "metadata": {},
     "output_type": "execute_result"
    }
   ],
   "source": [
    "train_data = pd.read_csv('data/train_dataset.csv')\n",
    "\n",
    "train_data.head()"
   ]
  },
  {
   "cell_type": "code",
   "execution_count": 7,
   "metadata": {},
   "outputs": [
    {
     "data": {
      "text/plain": [
       "(1000, 112891)"
      ]
     },
     "execution_count": 7,
     "metadata": {},
     "output_type": "execute_result"
    }
   ],
   "source": [
    "len(test_data), len(train_data)"
   ]
  }
 ],
 "metadata": {
  "kernelspec": {
   "display_name": "Python 3",
   "language": "python",
   "name": "python3"
  },
  "language_info": {
   "codemirror_mode": {
    "name": "ipython",
    "version": 3
   },
   "file_extension": ".py",
   "mimetype": "text/x-python",
   "name": "python",
   "nbconvert_exporter": "python",
   "pygments_lexer": "ipython3",
   "version": "3.6.8"
  }
 },
 "nbformat": 4,
 "nbformat_minor": 2
}
