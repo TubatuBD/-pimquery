{
 "cells": [
  {
   "cell_type": "markdown",
   "metadata": {},
   "source": [
    "#### 基本思路\n",
    "\n",
    "提取图像特征值，存入HBase,进行查重。\n",
    "\n",
    "#### 特征值提取\n",
    "\n",
    "图像相似性搜索领域，一般先图像特征量化，然后进行相应的匹配。\n",
    "\n",
    "1、方向一：描述符。先抽取图像局部特征符，根据一些匹配算法进行匹对，较多适合在图像比对，人脸比对等领域；\n",
    "\n",
    "2、方向二：描述符的特征。先抽取图像局部特征符，描述符堆砌然后降维下来，成为拥有全局信息的图像特征向量，适合形成图指纹；\n",
    "\n",
    "3、方向三：颜色特征。使用直方图，后计算两两之间的误差，较多使其向量化，比较适合多量图像。\n",
    "\n",
    "4、方向四：哈希化。适合大规模搜索，哈希化之后去重，或进行搜索。\n",
    "\n",
    "5、方向五：triplet loss。深度学习，从图片相似度学习图片的表示\n",
    "\n",
    "\n",
    "#### 参考\n",
    "- [实例检索︱图像的实例搜索（文献、方法描述、商业案例）](https://blog.csdn.net/sinat_26917383/article/details/63306206)"
   ]
  },
  {
   "cell_type": "code",
   "execution_count": null,
   "metadata": {},
   "outputs": [],
   "source": [
    "import cv2"
   ]
  },
  {
   "cell_type": "code",
   "execution_count": null,
   "metadata": {},
   "outputs": [],
   "source": [
    "img = cv2.imread('images/demo.jpg')"
   ]
  },
  {
   "cell_type": "code",
   "execution_count": null,
   "metadata": {},
   "outputs": [],
   "source": [
    "gray= cv2.cvtColor(img, cv2.COLOR_BGR2GRAY)"
   ]
  },
  {
   "cell_type": "code",
   "execution_count": null,
   "metadata": {},
   "outputs": [],
   "source": [
    "print(img.shape)\n",
    "print(gray.shape)"
   ]
  },
  {
   "cell_type": "code",
   "execution_count": null,
   "metadata": {},
   "outputs": [],
   "source": [
    "sift = cv2.xfeatures2d.SIFT_create(200)\n",
    "# kp = sift.detect(gray, None)\n",
    "kp, des = sift.detectAndCompute(gray, None)\n",
    "\n",
    "img=cv2.drawKeypoints(gray,kp,img)\n",
    "cv2.imwrite('sift_keypoints.jpg', img)"
   ]
  },
  {
   "cell_type": "code",
   "execution_count": null,
   "metadata": {},
   "outputs": [],
   "source": [
    "des.shape"
   ]
  },
  {
   "cell_type": "code",
   "execution_count": null,
   "metadata": {},
   "outputs": [],
   "source": [
    "surf = cv2.xfeatures2d.SURF_create(200)\n",
    "kp, des = surf.detectAndCompute(gray, None)"
   ]
  },
  {
   "cell_type": "code",
   "execution_count": null,
   "metadata": {},
   "outputs": [],
   "source": [
    "print(kp[0].pt)\n",
    "print(kp[0].size)"
   ]
  },
  {
   "cell_type": "code",
   "execution_count": null,
   "metadata": {},
   "outputs": [],
   "source": [
    "img=cv2.drawKeypoints(gray,kp,img)\n",
    "cv2.imwrite('surf_keypoints.jpg', img)"
   ]
  }
 ],
 "metadata": {
  "kernelspec": {
   "display_name": "Python 3",
   "language": "python",
   "name": "python3"
  },
  "language_info": {
   "codemirror_mode": {
    "name": "ipython",
    "version": 3
   },
   "file_extension": ".py",
   "mimetype": "text/x-python",
   "name": "python",
   "nbconvert_exporter": "python",
   "pygments_lexer": "ipython3",
   "version": "3.6.8"
  }
 },
 "nbformat": 4,
 "nbformat_minor": 2
}
