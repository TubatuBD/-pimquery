{
 "cells": [
  {
   "cell_type": "code",
   "execution_count": null,
   "metadata": {},
   "outputs": [],
   "source": [
    "from ftplib import FTP\n",
    "import logging.config"
   ]
  },
  {
   "cell_type": "code",
   "execution_count": null,
   "metadata": {},
   "outputs": [],
   "source": [
    "# 文件服务器参数\n",
    "ftp_param = {\n",
    "    'host': '192.168.11.107',\n",
    "    'port': 21,\n",
    "    'user': 'ken.li',\n",
    "    'pwd': 'Ken19900522',\n",
    "    'points_dir': 'comm/cust_point/',\n",
    "    'xsl': 'xsl/dps'\n",
    "}"
   ]
  },
  {
   "cell_type": "code",
   "execution_count": null,
   "metadata": {},
   "outputs": [],
   "source": [
    "logger = logging.getLogger(__name__)\n",
    "\n",
    "# 设置变量\n",
    "ftp=FTP()\n",
    "\n",
    " #连接的ftp sever和端口\n",
    "ftp.connect(ftp_param['host'], ftp_param['port'])\n",
    "\n",
    "# 登录\n",
    "ftp.login(ftp_param['user'], ftp_param['pwd'])\n",
    "\n",
    "# 打印欢迎信息\n",
    "logger.debug(ftp.getwelcome())\n",
    "\n",
    "# 进入远程目录\n",
    "ftp.cwd(ftp_param['xsl'])\n",
    "\n",
    " # 需要下载的文件\n",
    "filename=\"xsl.txt\"\n",
    "\n",
    "# 以写的模式在本地打开文件\n",
    "file_handle=open(filename,\"wb\").write\n",
    "\n",
    "# 接收服务器上文件并写入本地文件\n",
    "ftp.retrbinaly(\"RETR xsl.txt\",file_handle,bufsize) \n",
    "\n",
    "# 退出ftp\n",
    "ftp.quit()"
   ]
  },
  {
   "cell_type": "code",
   "execution_count": 1,
   "metadata": {},
   "outputs": [],
   "source": [
    "import os"
   ]
  },
  {
   "cell_type": "code",
   "execution_count": 12,
   "metadata": {},
   "outputs": [
    {
     "data": {
      "text/plain": [
       "0"
      ]
     },
     "execution_count": 12,
     "metadata": {},
     "output_type": "execute_result"
    }
   ],
   "source": [
    "os.system(r'net use Y: \\\\192.168.11.107\\publish\\案例图')"
   ]
  },
  {
   "cell_type": "code",
   "execution_count": 14,
   "metadata": {},
   "outputs": [
    {
     "data": {
      "text/plain": [
       "['书房_中式传统.zip',\n",
       " '书房_中式现代.zip',\n",
       " '书房_北欧极简.zip',\n",
       " '书房_地中海.zip',\n",
       " '书房_日式.zip',\n",
       " '书房_欧式豪华.zip',\n",
       " '书房_现代简约.zip',\n",
       " '书房_美式田园.zip',\n",
       " '书房_美式经典.zip',\n",
       " '儿童房_中式传统.zip',\n",
       " '儿童房_中式现代.zip',\n",
       " '儿童房_北欧极简.zip',\n",
       " '儿童房_地中海.zip',\n",
       " '儿童房_日式.zip',\n",
       " '儿童房_欧式豪华.zip',\n",
       " '儿童房_现代简约.zip',\n",
       " '儿童房_美式田园.zip',\n",
       " '儿童房_美式经典.zip',\n",
       " '卧室_中式传统.zip',\n",
       " '卧室_中式现代.zip',\n",
       " '卧室_北欧极简.zip',\n",
       " '卧室_地中海.zip',\n",
       " '卧室_日式.zip',\n",
       " '卧室_欧式豪华.zip',\n",
       " '卧室_现代简约.zip',\n",
       " '卧室_美式田园.zip',\n",
       " '卧室_美式经典.zip',\n",
       " '卫生间_中式传统.zip',\n",
       " '卫生间_中式现代.zip',\n",
       " '卫生间_北欧极简.zip',\n",
       " '卫生间_地中海.zip',\n",
       " '卫生间_日式.zip',\n",
       " '卫生间_欧式豪华.zip',\n",
       " '卫生间_现代简约.zip',\n",
       " '卫生间_美式田园.zip',\n",
       " '卫生间_美式经典.zip',\n",
       " '厨房_中式传统.zip',\n",
       " '厨房_中式现代.zip',\n",
       " '厨房_北欧极简.zip',\n",
       " '厨房_地中海.zip',\n",
       " '厨房_日式.zip',\n",
       " '厨房_欧式豪华.zip',\n",
       " '厨房_现代简约.zip',\n",
       " '厨房_美式田园.zip',\n",
       " '厨房_美式经典.zip',\n",
       " '客厅_中式传统.zip',\n",
       " '客厅_中式现代.zip',\n",
       " '客厅_北欧极简.zip',\n",
       " '客厅_地中海.zip',\n",
       " '客厅_日式.zip',\n",
       " '客厅_欧式豪华.zip',\n",
       " '客厅_现代简约.zip',\n",
       " '客厅_美式田园.zip',\n",
       " '客厅_美式经典.zip',\n",
       " '玄关_中式传统.zip',\n",
       " '玄关_中式现代.zip',\n",
       " '玄关_北欧极简.zip',\n",
       " '玄关_地中海.zip',\n",
       " '玄关_日式.zip',\n",
       " '玄关_欧式豪华.zip',\n",
       " '玄关_现代简约.zip',\n",
       " '玄关_美式田园.zip',\n",
       " '玄关_美式经典.zip',\n",
       " '衣帽间_中式传统.zip',\n",
       " '衣帽间_中式现代.zip',\n",
       " '衣帽间_北欧极简.zip',\n",
       " '衣帽间_地中海.zip',\n",
       " '衣帽间_日式.zip',\n",
       " '衣帽间_欧式豪华.zip',\n",
       " '衣帽间_现代简约.zip',\n",
       " '衣帽间_美式田园.zip',\n",
       " '衣帽间_美式经典.zip',\n",
       " '阳台_中式传统.zip',\n",
       " '阳台_中式现代.zip',\n",
       " '阳台_北欧极简.zip',\n",
       " '阳台_地中海.zip',\n",
       " '阳台_日式.zip',\n",
       " '阳台_欧式豪华.zip',\n",
       " '阳台_现代简约.zip',\n",
       " '阳台_美式田园.zip',\n",
       " '阳台_美式经典.zip',\n",
       " '餐厅_中式传统.zip',\n",
       " '餐厅_中式现代.zip',\n",
       " '餐厅_北欧极简.zip',\n",
       " '餐厅_地中海.zip',\n",
       " '餐厅_日式.zip',\n",
       " '餐厅_欧式豪华.zip',\n",
       " '餐厅_现代简约.zip',\n",
       " '餐厅_美式田园.zip',\n",
       " '餐厅_美式经典.zip']"
      ]
     },
     "execution_count": 14,
     "metadata": {},
     "output_type": "execute_result"
    }
   ],
   "source": [
    "os.listdir(\"Y:/\")"
   ]
  },
  {
   "cell_type": "code",
   "execution_count": null,
   "metadata": {},
   "outputs": [],
   "source": []
  }
 ],
 "metadata": {
  "kernelspec": {
   "display_name": "Python 3",
   "language": "python",
   "name": "python3"
  },
  "language_info": {
   "codemirror_mode": {
    "name": "ipython",
    "version": 3
   },
   "file_extension": ".py",
   "mimetype": "text/x-python",
   "name": "python",
   "nbconvert_exporter": "python",
   "pygments_lexer": "ipython3",
   "version": "3.6.8"
  }
 },
 "nbformat": 4,
 "nbformat_minor": 2
}
