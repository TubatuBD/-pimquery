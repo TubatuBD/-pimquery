{
 "cells": [
  {
   "cell_type": "markdown",
   "metadata": {},
   "source": [
    "# PIQ 1: 构建数据集"
   ]
  },
  {
   "cell_type": "code",
   "execution_count": 1,
   "metadata": {},
   "outputs": [],
   "source": [
    "import pandas as pd"
   ]
  },
  {
   "cell_type": "code",
   "execution_count": 2,
   "metadata": {},
   "outputs": [],
   "source": [
    "from functools import reduce\n",
    "\n",
    "def load_transform_csv(csv_file):\n",
    "    df = pd.read_csv(csv_file)\n",
    "    df['img_index'] = df['Unnamed: 0']\n",
    "    df = df[['img_index', 'fp_long']]\n",
    "    df = df.set_index(\"img_index\", drop=True)\n",
    "    return df\n",
    "\n",
    "def rbatch(a, b):\n",
    "    csvfile = 'fingerprint_{}-{}.csv'.format(a[0], b)\n",
    "    df = a[1].append(load_transform_csv(csvfile))\n",
    "    return (b, df)\n",
    "\n",
    "def mergeFpSaveTo(fpFile='fingerprint.csv'):\n",
    "    csv_file = 'fingerprint_0-10000.csv'\n",
    "    df = load_transform_csv(csv_file)\n",
    "\n",
    "    csv_batches = range(20000, 120000, 10000)\n",
    "    csv_batches = list(csv_batches)\n",
    "    csv_batches.append(113891)\n",
    "\n",
    "    last_batch, fp_df = reduce(rbatch, csv_batches, (10000, df))\n",
    "    fp_df.to_csv(fpFile)"
   ]
  },
  {
   "cell_type": "markdown",
   "metadata": {},
   "source": [
    "#### 图片边长与hash长度关系\n",
    "\n",
    "| $k$ | 图片尺寸 $2 \\times k$ | Hash长度 $k^2$ |\n",
    "| -- | -- | -- |\n",
    "| 2  | <span style=\"color: red\">4</span> | 4 |\n",
    "| 3  | 6 | 9 |\n",
    "| 4  | 8 | 16 |\n",
    "| 5  | 10 | 25 |\n",
    "| 6  | 12 | 36 |\n",
    "| 7  | 14 | 49 |\n",
    "| 8  | <span style=\"color: red\">16</span> | 64 |\n",
    "| 9  | 18 | 81 |\n",
    "| 10  | <span style=\"color: red\">20</span> | 100 |\n",
    "| 16  | <span style=\"color: red\">32</span> | 256 |\n",
    "| 20  | <span style=\"color: red\">40</span> | 400 |"
   ]
  },
  {
   "cell_type": "code",
   "execution_count": 59,
   "metadata": {},
   "outputs": [],
   "source": [
    "from pimquery import PImQuery, fp2des\n",
    "from time import time\n",
    "from helper import saveJson, loadJson\n",
    "import numpy as np"
   ]
  },
  {
   "cell_type": "code",
   "execution_count": 4,
   "metadata": {},
   "outputs": [],
   "source": [
    "piq = PImQuery()\n",
    "# piq_k3 = PImQuery(hash_k=3, df_fp=piq.df_fp)\n",
    "# piq_k4 = PImQuery(hash_k=4, df_fp=piq.df_fp)\n",
    "# piq_k5 = PImQuery(hash_k=5, df_fp=piq.df_fp)\n",
    "# piq_k6 = PImQuery(hash_k=6, df_fp=piq.df_fp)"
   ]
  },
  {
   "cell_type": "code",
   "execution_count": 5,
   "metadata": {},
   "outputs": [
    {
     "name": "stdout",
     "output_type": "stream",
     "text": [
      "Cost time: 3387.2563428878784s\n"
     ]
    },
    {
     "data": {
      "text/plain": [
       "31828"
      ]
     },
     "execution_count": 5,
     "metadata": {},
     "output_type": "execute_result"
    }
   ],
   "source": [
    "start = time()\n",
    "\n",
    "repeats = piq.findRepeats()\n",
    "\n",
    "print('Cost time: {}s'.format(time() - start))\n",
    "\n",
    "saveJson(repeats, 'data/piq_res_repeats_k2.json')\n",
    "\n",
    "len(loadJson('data/piq_res_repeats_k2.json'))"
   ]
  },
  {
   "cell_type": "code",
   "execution_count": 40,
   "metadata": {},
   "outputs": [],
   "source": [
    "def repeats2Df(repeats, num):\n",
    "    reps, simto = list(zip(*repeats))\n",
    "    df = pd.DataFrame(dict(repeat=[0] * num, simto=[0] * num))\n",
    "    df['repeat'][reps] = 1\n",
    "    df['simto'][reps] = simto\n",
    "    return df"
   ]
  },
  {
   "cell_type": "code",
   "execution_count": 41,
   "metadata": {},
   "outputs": [],
   "source": [
    "repeats = loadJson('data/piq_res_repeats_k2.json')\n",
    "df = repeats2Df(repeats, len(piq.df_hash))\n",
    "df.to_csv('data/piq_predict_repeat_k2.csv', index=False)"
   ]
  },
  {
   "cell_type": "code",
   "execution_count": 53,
   "metadata": {},
   "outputs": [],
   "source": [
    "predict_y = pd.read_csv('data/piq_predict_repeat_k2.csv')"
   ]
  },
  {
   "cell_type": "code",
   "execution_count": 58,
   "metadata": {},
   "outputs": [
    {
     "data": {
      "text/plain": [
       "repeat    31828\n",
       "simto     31828\n",
       "dtype: int64"
      ]
     },
     "execution_count": 58,
     "metadata": {},
     "output_type": "execute_result"
    }
   ],
   "source": [
    "predict_y[predict_y.repeat==1].count()"
   ]
  },
  {
   "cell_type": "code",
   "execution_count": 68,
   "metadata": {},
   "outputs": [
    {
     "name": "stdout",
     "output_type": "stream",
     "text": [
      "Cost time: 60.28981375694275s\n"
     ]
    }
   ],
   "source": [
    "imdes = list()\n",
    "\n",
    "start = time()\n",
    "\n",
    "for fp in piq.df_fp['fp_long']:\n",
    "    imdes.append(fp2des(fp).tolist())\n",
    "\n",
    "print('Cost time: {}s'.format(time() - start))\n",
    "    \n",
    "saveJson(imdes, 'data/piq_imdes.json')"
   ]
  },
  {
   "cell_type": "code",
   "execution_count": null,
   "metadata": {},
   "outputs": [],
   "source": [
    "piq_imdes = loadJson('data/piq_imdes.json')\n",
    "\n",
    "len(piq_imdes)"
   ]
  },
  {
   "cell_type": "code",
   "execution_count": null,
   "metadata": {},
   "outputs": [],
   "source": []
  }
 ],
 "metadata": {
  "kernelspec": {
   "display_name": "Python 3",
   "language": "python",
   "name": "python3"
  },
  "language_info": {
   "codemirror_mode": {
    "name": "ipython",
    "version": 3
   },
   "file_extension": ".py",
   "mimetype": "text/x-python",
   "name": "python",
   "nbconvert_exporter": "python",
   "pygments_lexer": "ipython3",
   "version": "3.6.8"
  }
 },
 "nbformat": 4,
 "nbformat_minor": 2
}
