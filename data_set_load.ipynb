{
 "cells": [
  {
   "cell_type": "code",
   "execution_count": 1,
   "metadata": {},
   "outputs": [],
   "source": [
    "import pandas as pd\n",
    "from functools import reduce\n",
    "import numpy as np\n",
    "from imgfeature import ImSim"
   ]
  },
  {
   "cell_type": "code",
   "execution_count": 2,
   "metadata": {},
   "outputs": [],
   "source": [
    "df = pd.read_csv('dataset_with_fp_long.csv')"
   ]
  },
  {
   "cell_type": "code",
   "execution_count": 3,
   "metadata": {},
   "outputs": [],
   "source": [
    "# csv_batches = range(20000, 120000, 10000)\n",
    "# csv_batches = list(csv_batches)\n",
    "# csv_batches.append(113891)\n",
    "\n",
    "# def load_transform_csv(csv_file):\n",
    "#     df = pd.read_csv(csv_file)\n",
    "#     df['img_index'] = df['Unnamed: 0']\n",
    "#     df = df[['img_index', 'fp_long']]\n",
    "#     df = df.set_index(\"img_index\", drop=True)\n",
    "#     return df\n",
    "\n",
    "# csv_file = 'fingerprint_0-10000.csv'\n",
    "\n",
    "# df = load_transform_csv(csv_file)\n",
    "\n",
    "# def rbatch(a, b):\n",
    "#     csvfile = 'fingerprint_{}-{}.csv'.format(a[0], b)\n",
    "#     df = a[1].append(load_transform_csv(csvfile))\n",
    "#     return (b, df)\n",
    "\n",
    "# last_batch, fp_df = reduce(rbatch, csv_batches, (10000, df))\n",
    "# fp_df.to_csv('fp_long.csv')"
   ]
  },
  {
   "cell_type": "code",
   "execution_count": 4,
   "metadata": {},
   "outputs": [],
   "source": [
    "def fp2des(fp):\n",
    "    return np.array([int(fp[i:i+2], 16) for i in range(0, len(fp), 2)], dtype=np.uint8).reshape(50, 32)"
   ]
  },
  {
   "cell_type": "code",
   "execution_count": 5,
   "metadata": {},
   "outputs": [
    {
     "data": {
      "text/plain": [
       "0.0"
      ]
     },
     "execution_count": 5,
     "metadata": {},
     "output_type": "execute_result"
    }
   ],
   "source": [
    "# for item in df.head().index:\n",
    "#     print(dict(df.loc[item]))\n",
    "\n",
    "imsim = ImSim(k=50)\n",
    "\n",
    "sim = imsim.calcSim(fp2des(df['fp_long'][113890]), fp2des(df['fp_long'][0]))\n",
    "\n",
    "sim"
   ]
  }
 ],
 "metadata": {
  "kernelspec": {
   "display_name": "Python 3",
   "language": "python",
   "name": "python3"
  },
  "language_info": {
   "codemirror_mode": {
    "name": "ipython",
    "version": 3
   },
   "file_extension": ".py",
   "mimetype": "text/x-python",
   "name": "python",
   "nbconvert_exporter": "python",
   "pygments_lexer": "ipython3",
   "version": "3.6.8"
  }
 },
 "nbformat": 4,
 "nbformat_minor": 2
}
