{
 "cells": [
  {
   "cell_type": "markdown",
   "metadata": {},
   "source": [
    "# PIQ3: 测试数据集真值计算"
   ]
  },
  {
   "cell_type": "code",
   "execution_count": null,
   "metadata": {},
   "outputs": [],
   "source": [
    "from piq_feature import ImSim\n",
    "import pandas as pd\n",
    "import numpy as np\n",
    "from time import time\n",
    "from helper import saveJson, loadJson"
   ]
  },
  {
   "cell_type": "code",
   "execution_count": null,
   "metadata": {},
   "outputs": [],
   "source": [
    "imsim = ImSim(k=50)\n",
    "train_data = pd.read_csv('data/train_dataset.csv')\n",
    "test_data = pd.read_csv('data/test_dataset.csv')\n",
    "piq_imdes = loadJson('data/piq_imdes.json')\n",
    "piq_imdes = [np.array(des, dtype=np.uint8) for des in piq_imdes]"
   ]
  },
  {
   "cell_type": "code",
   "execution_count": null,
   "metadata": {},
   "outputs": [],
   "source": [
    "test_repeats = list()\n",
    "\n",
    "start = time()\n",
    "\n",
    "for test_index in test_data.index:\n",
    "    test_index = test_data.loc[test_index, 'index']\n",
    "    test_des = piq_imdes[test_index]\n",
    "\n",
    "    simto = None\n",
    "    sim = 0\n",
    "    for index in train_data['index']:\n",
    "        train_des = piq_imdes[index]\n",
    "        sim = imsim.calcSim(test_des, train_des)\n",
    "        if sim > 0.01:\n",
    "            print('sim between {} and {} is {}'.format(test_index, index, sim))\n",
    "            simto = index\n",
    "            break\n",
    "    if simto is None:\n",
    "        test_repeats.append((0, 0, sim))\n",
    "    else:\n",
    "        test_repeats.append((1, simto, sim))\n",
    "\n",
    "print('Cost time = {}s'.format(time() - start))"
   ]
  },
  {
   "cell_type": "code",
   "execution_count": null,
   "metadata": {},
   "outputs": [],
   "source": [
    "repeat, simto, sim = list(zip(*test_repeats))\n",
    "df = pd.DataFrame(dict(repeat=repeat, simto=list(simto), sim=sim))\n",
    "test_df = pd.concat([test_data, df], axis=1)\n",
    "\n",
    "piq_hash = pd.read_csv('data/piq_imhash_k2.csv')\n",
    "\n",
    "simto_hash = list()\n",
    "index_hash = list()\n",
    "for i in test_df.index:\n",
    "    index, repeat, simto = test_df.loc[i, ['index', 'repeat', 'simto']]\n",
    "    if repeat == 1:\n",
    "        simto_hash.append(piq_hash.loc[simto, 'hash_k2'])\n",
    "    else:\n",
    "        simto_hash.append(0)\n",
    "    index_hash.append(piq_hash.loc[index, 'hash_k2'])\n",
    "\n",
    "test_df['hash'] = index_hash\n",
    "test_df['simto_hash'] = simto_hash"
   ]
  },
  {
   "cell_type": "code",
   "execution_count": null,
   "metadata": {},
   "outputs": [],
   "source": [
    "test_df.to_csv('data/piq_test1000_true.csv', index=False)"
   ]
  }
 ],
 "metadata": {
  "kernelspec": {
   "display_name": "Python 3",
   "language": "python",
   "name": "python3"
  },
  "language_info": {
   "codemirror_mode": {
    "name": "ipython",
    "version": 3
   },
   "file_extension": ".py",
   "mimetype": "text/x-python",
   "name": "python",
   "nbconvert_exporter": "python",
   "pygments_lexer": "ipython3",
   "version": "3.6.8"
  }
 },
 "nbformat": 4,
 "nbformat_minor": 2
}
