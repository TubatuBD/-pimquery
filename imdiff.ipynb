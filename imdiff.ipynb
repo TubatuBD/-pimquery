{
 "cells": [
  {
   "cell_type": "code",
   "execution_count": 1,
   "metadata": {},
   "outputs": [],
   "source": [
    "from imdiff import ImDiff"
   ]
  },
  {
   "cell_type": "markdown",
   "metadata": {},
   "source": [
    "# 图片查重算法\n",
    "\n",
    "图片查重的基本原理是计算张两张图片的差异值，调节阈值，把差异值小于阈值的两张图片认为是同一张图片，大于阈值认为是不同图片。\n",
    "\n",
    "## 差异值计算\n",
    "\n",
    "#### 原图1&2"
   ]
  },
  {
   "cell_type": "code",
   "execution_count": 2,
   "metadata": {},
   "outputs": [
    {
     "data": {
      "text/plain": [
       "219"
      ]
     },
     "execution_count": 2,
     "metadata": {},
     "output_type": "execute_result"
    }
   ],
   "source": [
    "img1 = 'images/origin/1.jpg'\n",
    "img2 = 'images/origin/2.jpg'\n",
    "\n",
    "ImDiff(img1, img2)"
   ]
  },
  {
   "cell_type": "markdown",
   "metadata": {},
   "source": [
    "- 图1与图2 差异值为：219\n",
    "\n",
    "<p style=\"overflow: hidden\">\n",
    "  <img style=\"float: left; margin: 0; max-height: 180px\" src=\"images/origin/1.jpg\">\n",
    "  <img style=\"float: left; margin: 0 0 0 10px; max-height: 180px\" src=\"images/origin/2.jpg\">\n",
    "</p>\n",
    "\n",
    "#### 加滤镜 1&2"
   ]
  },
  {
   "cell_type": "code",
   "execution_count": 3,
   "metadata": {},
   "outputs": [
    {
     "name": "stdout",
     "output_type": "stream",
     "text": [
      "img1 & img1_filter : 1\n",
      "img2 & img2_filter : 12 \n"
     ]
    }
   ],
   "source": [
    "img1_filter = 'images/filter/1.jpg'\n",
    "img2_filter = 'images/filter/2.jpg'\n",
    "\n",
    "print('img1 & img1_filter : {}\\nimg2 & img2_filter : {} '.format(ImDiff(img1, img1_filter), ImDiff(img2, img2_filter)))"
   ]
  },
  {
   "cell_type": "markdown",
   "metadata": {},
   "source": [
    "- 图1加滤镜与原图 差异值为：1\n",
    "- 图2加滤镜与原图 差异值为：12\n",
    "\n",
    "<p style=\"overflow: hidden\">\n",
    "  <img style=\"float: left; margin: 0; max-height: 180px\" src=\"images/filter/1.jpg\">\n",
    "  <img style=\"float: left; margin: 0 0 0 10px; max-height: 180px\" src=\"images/filter/2.jpg\">\n",
    "</p>\n",
    "\n",
    "#### 裁剪 1&2"
   ]
  },
  {
   "cell_type": "code",
   "execution_count": 4,
   "metadata": {},
   "outputs": [
    {
     "name": "stdout",
     "output_type": "stream",
     "text": [
      "img1 & img1_crop : 84\n",
      "img2 & img2_crop : 274 \n"
     ]
    }
   ],
   "source": [
    "img1_crop = 'images/crop/1.jpg'\n",
    "img2_crop = 'images/crop/2.jpg'\n",
    "\n",
    "print('img1 & img1_crop : {}\\nimg2 & img2_crop : {} '.format(ImDiff(img1, img1_crop), ImDiff(img2, img2_crop)))"
   ]
  },
  {
   "cell_type": "markdown",
   "metadata": {},
   "source": [
    "- 图1裁剪与原图 差异值为：84\n",
    "- 图2裁剪与原图 差异值为：274\n",
    "\n",
    "<p style=\"overflow: hidden\">\n",
    "  <img style=\"float: left; margin: 0; max-height: 180px\" src=\"images/crop/1.jpg\">\n",
    "  <img style=\"float: left; margin: 0 0 0 10px; max-height: 180px\" src=\"images/crop/2.jpg\">\n",
    "</p>\n",
    "\n",
    "#### 旋转 1&2"
   ]
  },
  {
   "cell_type": "code",
   "execution_count": 5,
   "metadata": {},
   "outputs": [
    {
     "name": "stdout",
     "output_type": "stream",
     "text": [
      "img1 & img1_rotate : 139\n",
      "img2 & img2_rotate : 269 \n"
     ]
    }
   ],
   "source": [
    "img1_rotate = 'images/rotate/1.jpg'\n",
    "img2_rotate = 'images/rotate/2.jpg'\n",
    "\n",
    "print('img1 & img1_rotate : {}\\nimg2 & img2_rotate : {} '.format(ImDiff(img1, img1_rotate), ImDiff(img2, img2_rotate)))"
   ]
  },
  {
   "cell_type": "markdown",
   "metadata": {},
   "source": [
    "- 图1旋转与原图 差异值为：139\n",
    "- 图2旋转与原图 差异值为：269\n",
    "\n",
    "<p style=\"overflow: hidden\">\n",
    "  <img style=\"float: left; margin: 0; max-height: 180px\" src=\"images/rotate/1.jpg\">\n",
    "  <img style=\"float: left; margin: 0 0 0 10px; max-height: 180px\" src=\"images/rotate/2.jpg\">\n",
    "</p>"
   ]
  }
 ],
 "metadata": {
  "kernelspec": {
   "display_name": "Python 3",
   "language": "python",
   "name": "python3"
  },
  "language_info": {
   "codemirror_mode": {
    "name": "ipython",
    "version": 3
   },
   "file_extension": ".py",
   "mimetype": "text/x-python",
   "name": "python",
   "nbconvert_exporter": "python",
   "pygments_lexer": "ipython3",
   "version": "3.6.8"
  }
 },
 "nbformat": 4,
 "nbformat_minor": 2
}
